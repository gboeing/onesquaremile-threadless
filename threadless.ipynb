{
 "cells": [
  {
   "cell_type": "code",
   "execution_count": 1,
   "metadata": {
    "collapsed": true
   },
   "outputs": [],
   "source": [
    "import os, osmnx as ox\n",
    "from PIL import Image, ImageOps\n",
    "%matplotlib inline"
   ]
  },
  {
   "cell_type": "code",
   "execution_count": 2,
   "metadata": {
    "collapsed": true
   },
   "outputs": [],
   "source": [
    "# configure the inline image display\n",
    "img_folder = 'images'\n",
    "extension = 'png'\n",
    "size = 350\n",
    "dpi = 1700\n",
    "edge_color = 'w'\n",
    "bgcolor = 'none'\n",
    "ox.config(log_file=True, log_console=True, use_cache=True, imgs_folder=img_folder)"
   ]
  },
  {
   "cell_type": "code",
   "execution_count": 3,
   "metadata": {
    "collapsed": true
   },
   "outputs": [],
   "source": [
    "place = 'berkeley_{}'.format(edge_color)\n",
    "point = (37.871378, -122.262092)\n",
    "fig, ax = ox.plot_figure_ground(point=point, filename=place, default_width=4, network_type='drive_service', dpi=dpi,\n",
    "                                edge_color=edge_color, bgcolor=bgcolor)"
   ]
  },
  {
   "cell_type": "code",
   "execution_count": 4,
   "metadata": {
    "collapsed": true
   },
   "outputs": [],
   "source": [
    "place = 'boston_{}'.format(edge_color)\n",
    "point = (42.362084, -71.057267)\n",
    "fig, ax = ox.plot_figure_ground(point=point, filename=place, default_width=3.3, network_type='drive', dpi=dpi,\n",
    "                                edge_color=edge_color, bgcolor=bgcolor)"
   ]
  },
  {
   "cell_type": "code",
   "execution_count": 5,
   "metadata": {
    "collapsed": true
   },
   "outputs": [],
   "source": [
    "place = 'portland_{}'.format(edge_color)\n",
    "point = (45.516042, -122.682310)\n",
    "fig, ax = ox.plot_figure_ground(point=point, filename=place, default_width=4, network_type='drive', dpi=dpi,\n",
    "                                edge_color=edge_color, bgcolor=bgcolor)"
   ]
  },
  {
   "cell_type": "code",
   "execution_count": 6,
   "metadata": {
    "collapsed": true
   },
   "outputs": [],
   "source": [
    "place = 'jerusalem_{}'.format(edge_color)\n",
    "point = (31.777249, 35.227342)\n",
    "fig, ax = ox.plot_figure_ground(point=point, filename=place, default_width=3, network_type='all', dpi=dpi,\n",
    "                                edge_color=edge_color, bgcolor=bgcolor)"
   ]
  },
  {
   "cell_type": "code",
   "execution_count": 7,
   "metadata": {
    "collapsed": true
   },
   "outputs": [],
   "source": [
    "place = 'london-sqmile_{}'.format(edge_color)\n",
    "point = (51.517133, -0.088448)\n",
    "fig, ax = ox.plot_figure_ground(point=point, filename=place, default_width=3, network_type='drive_service', dpi=dpi,\n",
    "                                edge_color=edge_color, bgcolor=bgcolor)"
   ]
  },
  {
   "cell_type": "code",
   "execution_count": 8,
   "metadata": {
    "collapsed": true
   },
   "outputs": [],
   "source": [
    "place = 'portauprince_{}'.format(edge_color)\n",
    "point = (18.556659, -72.279118)\n",
    "fig, ax = ox.plot_figure_ground(point=point, filename=place, default_width=3, network_type='all', dpi=dpi,\n",
    "                                edge_color=edge_color, bgcolor=bgcolor)"
   ]
  },
  {
   "cell_type": "code",
   "execution_count": 9,
   "metadata": {
    "collapsed": true
   },
   "outputs": [],
   "source": [
    "place = 'tegucigalpa_{}'.format(edge_color)\n",
    "point = (14.106251, -87.204411)\n",
    "fig, ax = ox.plot_figure_ground(point=point, filename=place, default_width=3.5, network_type='all', dpi=dpi,\n",
    "                                edge_color=edge_color, bgcolor=bgcolor)"
   ]
  },
  {
   "cell_type": "code",
   "execution_count": 10,
   "metadata": {
    "collapsed": true
   },
   "outputs": [],
   "source": [
    "place = 'sacramento-downtown_{}'.format(edge_color)\n",
    "point = (38.565825, -121.478879)\n",
    "fig, ax = ox.plot_figure_ground(point=point, filename=place, default_width=4, network_type='drive', dpi=dpi,\n",
    "                                edge_color=edge_color, bgcolor=bgcolor)"
   ]
  },
  {
   "cell_type": "code",
   "execution_count": 11,
   "metadata": {
    "collapsed": true
   },
   "outputs": [],
   "source": [
    "place = 'jewettcity_{}'.format(edge_color)\n",
    "point = (41.606625, -71.979379)\n",
    "fig, ax = ox.plot_figure_ground(point=point, filename=place, default_width=4, network_type='drive', dpi=dpi,\n",
    "                                edge_color=edge_color, bgcolor=bgcolor)"
   ]
  },
  {
   "cell_type": "code",
   "execution_count": 12,
   "metadata": {
    "collapsed": true
   },
   "outputs": [],
   "source": [
    "place = 'newyork-midtown_{}'.format(edge_color)\n",
    "point = (40.757127, -73.982179)\n",
    "fig, ax = ox.plot_figure_ground(point=point, filename=place, default_width=4, network_type='drive', dpi=dpi,\n",
    "                                edge_color=edge_color, bgcolor=bgcolor)"
   ]
  },
  {
   "cell_type": "markdown",
   "metadata": {},
   "source": [
    "## Make portrait size with borders for shirts"
   ]
  },
  {
   "cell_type": "code",
   "execution_count": 13,
   "metadata": {
    "collapsed": true
   },
   "outputs": [],
   "source": [
    "# calculate border sizes to make portrait image\n",
    "def get_borders(img, border=int(dpi * 1), portrait_ratio=4800/4200):\n",
    "\n",
    "    square_length = img.size[0] + border * 2\n",
    "    portrait_margin = int(square_length * portrait_ratio - square_length)\n",
    "\n",
    "    left = border\n",
    "    top = 0\n",
    "    right = border\n",
    "    bottom = border * 2 + portrait_margin #change it from square to portrait\n",
    "    borders = (left, top, right, bottom)\n",
    "    return borders"
   ]
  },
  {
   "cell_type": "code",
   "execution_count": 14,
   "metadata": {
    "collapsed": true
   },
   "outputs": [],
   "source": [
    "# you must add a pixel to each corner bc threadless crops transparent PNGs to the extent of it pixels\n",
    "def add_corner_pixels(img, color=(255, 255, 255)):\n",
    "    left = 0\n",
    "    top = 0\n",
    "    right = img.size[0] - 1\n",
    "    bottom = img.size[1] - 1\n",
    "    img.putpixel(xy=(left, top), value=color)\n",
    "    img.putpixel(xy=(left, bottom), value=color)\n",
    "    img.putpixel(xy=(right, top), value=color)\n",
    "    img.putpixel(xy=(right, bottom), value=color)\n",
    "    return img"
   ]
  },
  {
   "cell_type": "code",
   "execution_count": 15,
   "metadata": {},
   "outputs": [
    {
     "name": "stderr",
     "output_type": "stream",
     "text": [
      "C:\\Anaconda\\lib\\site-packages\\PIL\\Image.py:2371: DecompressionBombWarning: Image size (105411289 pixels) exceeds limit of 89478485 pixels, could be decompression bomb DOS attack.\n",
      "  DecompressionBombWarning)\n"
     ]
    }
   ],
   "source": [
    "for img_file in os.listdir(img_folder):\n",
    "    if not '_border.png' in img_file:\n",
    "        img = Image.open('{}/{}'.format(img_folder, img_file))\n",
    "        borders = get_borders(img)\n",
    "        img_with_border = ImageOps.expand(img, border=borders)\n",
    "        img_with_border = add_corner_pixels(img_with_border)\n",
    "        img_with_border.save('{}/{}_border.png'.format(img_folder, img_file))"
   ]
  },
  {
   "cell_type": "code",
   "execution_count": null,
   "metadata": {
    "collapsed": true
   },
   "outputs": [],
   "source": []
  }
 ],
 "metadata": {
  "kernelspec": {
   "display_name": "Python 3",
   "language": "python",
   "name": "python3"
  },
  "language_info": {
   "codemirror_mode": {
    "name": "ipython",
    "version": 3
   },
   "file_extension": ".py",
   "mimetype": "text/x-python",
   "name": "python",
   "nbconvert_exporter": "python",
   "pygments_lexer": "ipython3",
   "version": "3.6.1"
  }
 },
 "nbformat": 4,
 "nbformat_minor": 2
}
